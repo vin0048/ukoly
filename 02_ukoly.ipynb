{
 "cells": [
  {
   "attachments": {},
   "cell_type": "markdown",
   "metadata": {},
   "source": [
    "# Prostory jmen a obor platnosti proměnných:\n",
    "- Upravte funkci nalézající prvočísla tak, aby ukládala již spočítané prvočísla do listu v defaultním argumentu funkce. \n"
   ]
  },
  {
   "cell_type": "code",
   "execution_count": 1,
   "metadata": {},
   "outputs": [
    {
     "name": "stdout",
     "output_type": "stream",
     "text": [
      "[2, 3, 5, 7, 11, 13, 17, 19, 23, 29, 31, 37]\n",
      "[2, 3, 5, 7, 11, 13, 17, 19, 23, 29, 31, 37, 41, 43, 47, 53, 59, 61, 67, 71, 73, 79, 83, 89, 97, 101, 103, 107, 109, 113, 127, 131, 137, 139, 149, 151, 157, 163, 167, 173, 179, 181, 191, 193, 197, 199, 211, 223, 227, 229]\n",
      "[2, 3, 5, 7]\n"
     ]
    }
   ],
   "source": [
    "def najdi_prvocisla(n, prvocisla = [2]):\n",
    "    i = prvocisla[-1]\n",
    "    while len(prvocisla) < n:\n",
    "        i += 1\n",
    "        for prvocislo in prvocisla:\n",
    "            if i % prvocislo == 0:\n",
    "                break\n",
    "        else:\n",
    "            prvocisla.append(i)\n",
    "    return prvocisla[:n]\n",
    "    \n",
    "\n",
    "print(najdi_prvocisla(12))\n",
    "print(najdi_prvocisla(50))\n",
    "print(najdi_prvocisla(4))"
   ]
  },
  {
   "cell_type": "code",
   "execution_count": 2,
   "metadata": {},
   "outputs": [
    {
     "data": {
      "text/plain": [
       "([2,\n",
       "  3,\n",
       "  5,\n",
       "  7,\n",
       "  11,\n",
       "  13,\n",
       "  17,\n",
       "  19,\n",
       "  23,\n",
       "  29,\n",
       "  31,\n",
       "  37,\n",
       "  41,\n",
       "  43,\n",
       "  47,\n",
       "  53,\n",
       "  59,\n",
       "  61,\n",
       "  67,\n",
       "  71,\n",
       "  73,\n",
       "  79,\n",
       "  83,\n",
       "  89,\n",
       "  97,\n",
       "  101,\n",
       "  103,\n",
       "  107,\n",
       "  109,\n",
       "  113,\n",
       "  127,\n",
       "  131,\n",
       "  137,\n",
       "  139,\n",
       "  149,\n",
       "  151,\n",
       "  157,\n",
       "  163,\n",
       "  167,\n",
       "  173,\n",
       "  179,\n",
       "  181,\n",
       "  191,\n",
       "  193,\n",
       "  197,\n",
       "  199,\n",
       "  211,\n",
       "  223,\n",
       "  227,\n",
       "  229],)"
      ]
     },
     "execution_count": 2,
     "metadata": {},
     "output_type": "execute_result"
    }
   ],
   "source": [
    "najdi_prvocisla.__defaults__"
   ]
  },
  {
   "attachments": {},
   "cell_type": "markdown",
   "metadata": {},
   "source": [
    "\n",
    "# Jupyter magics:\n",
    "- použijte funkci %%writefile a pomocí ní (a kopie funkcí z posledního DU) vytvořte .py soubor sloužící jako modul mající tři funkce viz minulý DU\n",
    "- Použijte magic příkazy %time %timeit %%time a %%timeit k měření času běhu různých částí kódu (například funkcí z minulého DU).\n"
   ]
  },
  {
   "cell_type": "code",
   "execution_count": 3,
   "metadata": {},
   "outputs": [
    {
     "name": "stdout",
     "output_type": "stream",
     "text": [
      "Overwriting muj_modul.py\n"
     ]
    }
   ],
   "source": [
    "%%writefile muj_modul.py\n",
    "def odmocnina(a, n): \n",
    "    x = float(a)\n",
    "    for i in range(n):\n",
    "        x = (a/x + x)/2\n",
    "        # print(x)\n",
    "    return x\n",
    "\n",
    "def odhad_pi(n):\n",
    "    a = 1\n",
    "    b = 1\n",
    "    v = odmocnina((a**2 - (b/2)**2), 100)\n",
    "    \n",
    "    for i in range(n):\n",
    "        b = odmocnina(((b/2)**2 + ((1 - v)**2)), 100)\n",
    "        v = odmocnina((a**2 - (b/2)**2), 100)\n",
    "        # S = 6 * (2 ** (i+1)) * b * v/2\n",
    "        # print(S)\n",
    "\n",
    "    S = 6 * (2 ** n) * b * v/2\n",
    "    return S\n",
    "\n",
    "def aproximace_pi(n):\n",
    "    a = 1/(2 ** 4)\n",
    "    suma = a/3\n",
    "    for i in range(n): \n",
    "        a = a * (2 * (i + 2) - 3) / ((2 ** 3) * (i + 2))\n",
    "        suma = suma + a / (2 * (i+2) + 1)\n",
    "    moje_pi = 12 * (-odmocnina(3,1000)/8 + 1/2 - suma)\n",
    "    return moje_pi"
   ]
  },
  {
   "cell_type": "code",
   "execution_count": 4,
   "metadata": {},
   "outputs": [],
   "source": [
    "import muj_modul\n",
    "# from muj_modul import aproximace_pi, odhad_pi, odmocnina"
   ]
  },
  {
   "cell_type": "code",
   "execution_count": 5,
   "metadata": {},
   "outputs": [
    {
     "data": {
      "text/plain": [
       "['__builtins__',\n",
       " '__cached__',\n",
       " '__doc__',\n",
       " '__file__',\n",
       " '__loader__',\n",
       " '__name__',\n",
       " '__package__',\n",
       " '__spec__',\n",
       " 'aproximace_pi',\n",
       " 'odhad_pi',\n",
       " 'odmocnina']"
      ]
     },
     "execution_count": 5,
     "metadata": {},
     "output_type": "execute_result"
    }
   ],
   "source": [
    "dir(muj_modul)"
   ]
  },
  {
   "cell_type": "code",
   "execution_count": 6,
   "metadata": {},
   "outputs": [
    {
     "name": "stdout",
     "output_type": "stream",
     "text": [
      "celkem 1012\n",
      "-rw-rw-r-- 1 student    118 dub  6 16:23 modul.py\n",
      "-rw-rw-r-- 1 student    685 dub 10 19:09 muj_modul.py\n",
      "drwxrwxr-x 2 student   4096 dub 10 19:09 \u001b[0m\u001b[01;34m__pycache__\u001b[0m/\n",
      "-rw-rw-r-- 1 student 215221 dub  6 16:23 01_ukoly.ipynb\n",
      "-rw-rw-r-- 1 student  21578 dub  6 16:23 02_ukoly.ipynb\n",
      "-rw-rw-r-- 1 student 651890 dub  6 16:23 05_scipy.ipynb\n",
      "-rw-rw-r-- 1 student 123381 dub  6 16:23 05_sympy.ipynb\n"
     ]
    }
   ],
   "source": [
    "%ll"
   ]
  },
  {
   "cell_type": "code",
   "execution_count": 7,
   "metadata": {},
   "outputs": [],
   "source": [
    "%run muj_modul.py"
   ]
  },
  {
   "cell_type": "code",
   "execution_count": 8,
   "metadata": {},
   "outputs": [
    {
     "name": "stdout",
     "output_type": "stream",
     "text": [
      "aproximace_pi\t muj_modul\t najdi_prvocisla\t odhad_pi\t odmocnina\t \n"
     ]
    }
   ],
   "source": [
    "%who"
   ]
  },
  {
   "cell_type": "code",
   "execution_count": 9,
   "metadata": {},
   "outputs": [
    {
     "name": "stdout",
     "output_type": "stream",
     "text": [
      "CPU times: user 10.6 ms, sys: 0 ns, total: 10.6 ms\n",
      "Wall time: 15.3 ms\n",
      "CPU times: user 568 µs, sys: 0 ns, total: 568 µs\n",
      "Wall time: 574 µs\n"
     ]
    },
    {
     "data": {
      "text/plain": [
       "3.1415926535897936"
      ]
     },
     "execution_count": 9,
     "metadata": {},
     "output_type": "execute_result"
    }
   ],
   "source": [
    "%time odhad_pi(100)\n",
    "%time aproximace_pi(100)"
   ]
  },
  {
   "cell_type": "code",
   "execution_count": 10,
   "metadata": {},
   "outputs": [
    {
     "name": "stdout",
     "output_type": "stream",
     "text": [
      "8.26 ms ± 971 µs per loop (mean ± std. dev. of 7 runs, 100 loops each)\n"
     ]
    }
   ],
   "source": [
    "%timeit odhad_pi(100)"
   ]
  },
  {
   "cell_type": "code",
   "execution_count": 11,
   "metadata": {},
   "outputs": [
    {
     "name": "stdout",
     "output_type": "stream",
     "text": [
      "CPU times: user 11.6 ms, sys: 0 ns, total: 11.6 ms\n",
      "Wall time: 17.4 ms\n"
     ]
    },
    {
     "data": {
      "text/plain": [
       "3.141592105999271"
      ]
     },
     "execution_count": 11,
     "metadata": {},
     "output_type": "execute_result"
    }
   ],
   "source": [
    "%%time \n",
    "odhad_pi(100)\n",
    "odhad_pi(10)"
   ]
  },
  {
   "cell_type": "code",
   "execution_count": 12,
   "metadata": {},
   "outputs": [
    {
     "name": "stdout",
     "output_type": "stream",
     "text": [
      "8.96 ms ± 1.19 ms per loop (mean ± std. dev. of 7 runs, 100 loops each)\n"
     ]
    }
   ],
   "source": [
    "%%timeit\n",
    "odhad_pi(100)\n",
    "odhad_pi(10)"
   ]
  },
  {
   "cell_type": "markdown",
   "metadata": {},
   "source": [
    "\n",
    "# Práce s řetězci:\n",
    "\n",
    "- Použíjte funkce z minulého úkolu a v cyklu spočtěte $\\pi$ s různým $n$. Pomocí f-strings vypište výsledky ve formátu \"n = 5, pi = 3.14159, počet správných cifer = 5\".\n"
   ]
  },
  {
   "cell_type": "code",
   "execution_count": 21,
   "metadata": {},
   "outputs": [
    {
     "name": "stdout",
     "output_type": "stream",
     "text": [
      "n = 5, pi = 3.14159, počet správných cifer = 5\n"
     ]
    }
   ],
   "source": [
    "n = 5\n",
    "\n",
    "print(f\"{n = }, pi ={aproximace_pi(n): .5f}, počet správných cifer = {n}\")"
   ]
  },
  {
   "cell_type": "markdown",
   "metadata": {},
   "source": [
    "\n",
    "# Generátory a iterátory:\n",
    "\n",
    "- Napište generátor (funkci), který vytváří Fibonacciho posloupnost a vrátí prvních $n$ členů.\n"
   ]
  },
  {
   "cell_type": "code",
   "execution_count": 70,
   "metadata": {},
   "outputs": [
    {
     "name": "stdout",
     "output_type": "stream",
     "text": [
      "<generator object my_fibbonaci at 0x7f521efeadc0>\n",
      "0\n",
      "1\n",
      "1\n",
      "2\n",
      "3\n",
      "5\n",
      "8\n",
      "13\n",
      "21\n",
      "34\n",
      "55\n",
      "89\n",
      "144\n",
      "233\n",
      "377\n",
      "Generátor <generator object my_fibbonaci at 0x7f521efeadc0> vyčerpal všechny hodnoty.\n"
     ]
    }
   ],
   "source": [
    "def my_fibbonaci(n):\n",
    "    f = 0\n",
    "    f1 = 1\n",
    "    yield f\n",
    "    yield f1\n",
    "    for i in range(n-2):\n",
    "        f1 = f + f1\n",
    "        f = f1 - f\n",
    "        yield f1\n",
    "\n",
    "# volání generátoru\n",
    "n = 15 # zde zvolím n\n",
    "gen = my_fibbonaci(n)\n",
    "print(gen)\n",
    "for i in range(n):\n",
    "    print(next(gen))\n",
    "try:\n",
    "    print(next(gen))\n",
    "except StopIteration:\n",
    "    print(f\"Generátor {gen} vyčerpal všechny hodnoty.\")"
   ]
  },
  {
   "cell_type": "markdown",
   "metadata": {},
   "source": [
    "\n",
    "# List comprehension:\n",
    "- Vytvořte seznam čísel od 1 do 10 pomocí list comprehension.\n",
    "- Vytvořte seznam druhých mocnin čísel od 1 do 10 pomocí list comprehension.\n",
    "- Vytvořte seznam prvočísel od 1 do 100 pomocí list comprehension. Hint (použijte funkci all() na generátor testující dělitelnost).\n"
   ]
  },
  {
   "cell_type": "code",
   "execution_count": 86,
   "metadata": {},
   "outputs": [
    {
     "name": "stdout",
     "output_type": "stream",
     "text": [
      "[1, 2, 3, 4, 5, 6, 7, 8, 9, 10]\n",
      "[1, 4, 9, 16, 25, 36, 49, 64, 81, 100]\n",
      "[2, 3, 5, 7, 11, 13, 17, 19, 23, 29, 31, 37, 41, 43, 47, 53, 59, 61, 67, 71, 73, 79, 83, 89, 97]\n"
     ]
    }
   ],
   "source": [
    "# list comprehension\n",
    "print([i for i in range(1, 11)])\n",
    "print([i ** 2 for i in range(1, 11)])\n",
    "print([i for i in range(2, 100) if all(i % y != 0 for y in range(2, i))])"
   ]
  },
  {
   "cell_type": "markdown",
   "metadata": {},
   "source": [
    "\n",
    "# Práce se soubory:\n",
    "- Pomocí %%writefile vytvořte soubor s nějakým textem.\n",
    "- Otevřete soubor pro čtení a vypište jeho obsah.\n",
    "- Otevřete jiný soubor pro zápis a napište do něj textový řetězec.\n",
    "- Pomocí f-strings zapište do souboru tabulku čísel od 1 do 10, jejich druhých mocnin a jejich druhých odmocnin."
   ]
  },
  {
   "cell_type": "code",
   "execution_count": 87,
   "metadata": {},
   "outputs": [
    {
     "name": "stdout",
     "output_type": "stream",
     "text": [
      "Writing soubor.txt\n"
     ]
    }
   ],
   "source": [
    "%%writefile soubor.txt\n",
    "jmeno:\n",
    "prijmeni:\n",
    "vek: "
   ]
  },
  {
   "cell_type": "code",
   "execution_count": 89,
   "metadata": {},
   "outputs": [
    {
     "name": "stdout",
     "output_type": "stream",
     "text": [
      "jmeno:\n",
      "prijmeni:\n",
      "vek: \n",
      "\n"
     ]
    }
   ],
   "source": [
    "soubor_x = open(\"soubor.txt\", \"r\")\n",
    "print(soubor_x.read())"
   ]
  },
  {
   "cell_type": "code",
   "execution_count": 92,
   "metadata": {},
   "outputs": [
    {
     "name": "stdout",
     "output_type": "stream",
     "text": [
      "Writing soubor2.txt\n"
     ]
    }
   ],
   "source": [
    "%%writefile soubor2.txt \n",
    "xxx"
   ]
  },
  {
   "cell_type": "code",
   "execution_count": 97,
   "metadata": {},
   "outputs": [
    {
     "name": "stdout",
     "output_type": "stream",
     "text": [
      "co já vím? něco něco\n",
      "1, 1,  1.00\n",
      "2, 4,  1.41\n",
      "3, 9,  1.73\n",
      "4, 16,  2.00\n",
      "5, 25,  2.24\n",
      "6, 36,  2.45\n",
      "7, 49,  2.65\n",
      "8, 64,  2.83\n",
      "9, 81,  3.00\n"
     ]
    }
   ],
   "source": [
    "with open(\"soubor2.txt\", \"r\") as soubor_xx:\n",
    "    print(\"co já vím? něco něco\")\n",
    "    for i in range(1,10):\n",
    "        print(f\"{i}, {i ** 2}, {i ** 0.5: .2f}\")"
   ]
  },
  {
   "attachments": {},
   "cell_type": "markdown",
   "metadata": {},
   "source": [
    "# Domácí úkol:\n",
    "Pomocí vlastních tříd a dědičnosti vytvořte \"soubor tříd\" = nástroj pro derivaci funkcí.\n",
    "\n",
    "Konkrétněji:\n",
    "- Vytvořte třídu **Operator**\n",
    "    - Třída bude mít metody:\n",
    "        - `__init__()` - inicializuje operátor (zde stačí `pass`)\n",
    "        - `__str__()` - vrací řetězec reprezentující operátor\n",
    "        - `__repr__()` - vrací řetězec reprezentující operátor\n",
    "- Vytvořte třídu **BinaryOperator**, která bude dědit od třídy Operator\n",
    "    - Třída bude mít atributy:\n",
    "        - `levy_argument` - levý operand\n",
    "        - `pravy_argument` - pravý operand\n",
    "    - Třída bude mít metody:\n",
    "        - `__init__()` - inicializuje operátor, přiřadí argumenty\n",
    "        - `__str__()` - vrací řetězec reprezentující operátor\n",
    "        - `__repr__()` - vrací řetězec reprezentující operátor\n",
    "        - `diff()` - vrací derivaci operátoru\n",
    "- Vytvořte třídu **UnaryOperator**, která bude dědit od třídy Operator\n",
    "    - Třída bude mít atributy:\n",
    "        - `argument` - argument funkce \n",
    "    - Třída bude mít metody:\n",
    "        - `__init__()` - inicializuje operátor, přiřadí argument\n",
    "        - `__str__()` - vrací řetězec reprezentující operátor\n",
    "        - `__repr__()` - vrací řetězec reprezentující operátor\n",
    "        - `diff()` - vrací derivaci operátoru\n",
    "\n",
    "Pro počítání derivací použijte standardní pravidla:\n",
    "- derivace součtu je součet derivací\n",
    "- pravidlo pro derivaci součinu\n",
    "- derivace funkce je derivovaná funkce násobená derivovaným argumentem\n",
    "\n",
    "Pro **BinaryOperator** a **UnaryOperator** implementujte také metody implementující standardní operátory:\n",
    "- `__add__()` - implementuje operátor `+`\n",
    "- `__sub__()` - implementuje operátor `-`\n",
    "- `__mul__()` - implementuje operátor `*`\n",
    "\n",
    "Pro **BinaryOperator** implementujte dvě dceřiné třídy:\n",
    "- **Addition** - implementuje operátor `+`\n",
    "- **Multiplication** - implementuje operátor `*`\n",
    "\n",
    "Pro **UnaryOperator** implementujte tyto dceřiné třídy:\n",
    "- **exp** - implementuje funkci `exp`\n",
    "- **sin** - implementuje funkci `sin`\n",
    "- **cos** - implementuje funkci `cos`\n",
    "- **ln** - implementuje funkci `ln`\n",
    "- **frc** - implementuje funkci `1/x`\n",
    "- **identity** - implementuje identitu `x`\n",
    "- **cst** - implementuje konstantu `c`\n",
    "- **mocnina** - implementuje mocninu `x^n`\n",
    "\n",
    "U všech funckí implementujte adekvátně metodu `diff()` a `__str__()`, tak aby se funkce vypisovaly v přehledné podobě.\n",
    "\n",
    "Ozkoušejte na následujících funkcích:\n",
    "- $sin(x + cos(x*x)) + 1$\n",
    "- $x^2 + 2x + 1 + 2x^2$\n",
    "- $x^2 + 2x + exp(x)$"
   ]
  },
  {
   "cell_type": "code",
   "execution_count": 54,
   "metadata": {},
   "outputs": [],
   "source": [
    "# kostra k doplnění, místa označená TODO doplňte\n",
    "\n",
    "class Operator:\n",
    "    def __init__(self):\n",
    "        pass\n",
    "    \n",
    "    def __str__(self):\n",
    "        return type(self).__name__\n",
    "    \n",
    "    def __repr__(self):\n",
    "        return self.__str__()\n",
    "    \n",
    "    def diff(self):\n",
    "        pass\n",
    "    \n",
    "    def __add__(self, other):\n",
    "        return Addition(self, other)\n",
    "    \n",
    "    def __sub__(self, other):\n",
    "        return self + cst(-1)*other# TODO (použijte Addition a Multiplication se zápornou konstantu)\n",
    "    \n",
    "    def __mul__(self, other):\n",
    "        return Multiplication(self, other) # TODO (použijte Multiplication)\n",
    "    \n",
    "class BinaryOperator(Operator):\n",
    "    def __init__(self, levy_argument, pravy_argument):\n",
    "        self.levy_argument = levy_argument\n",
    "        self.pravy_argument = pravy_argument\n",
    "        \n",
    "class UnaryOperator(Operator):\n",
    "    def __init__(self, argument):\n",
    "        self.argument = argument\n",
    "    \n",
    "    def __str__(self):\n",
    "        return type(self).__name__ + \"(\" + str(self.argument) + \")\"\n",
    "        \n",
    "class Addition(BinaryOperator):\n",
    "    def __str__(self):\n",
    "        return str(self.levy_argument) + \"+\" + str(self.pravy_argument) # TODO vypíšeme něco jako (levy_argument)+(pravy_argument)\n",
    "    def diff(self):\n",
    "        return self.levy_argument.diff() + self.pravy_argument.diff() # TODO\n",
    "    \n",
    "class Multiplication(BinaryOperator):\n",
    "    def __str__(self):\n",
    "        return \"(\" + str(self.levy_argument) + \") * (\" + str(self.pravy_argument) + \")\" # TODO vypíšeme něco jako (levy_argument)*(pravy_argument)\n",
    "    def diff(self):\n",
    "        return self.levy_argument.diff() * self.pravy_argument + self.pravy_argument.diff() * self.levy_argument# TODO\n",
    "    \n",
    "class cst(UnaryOperator):\n",
    "    def __init__(self, value):\n",
    "        self.value = value\n",
    "    def __str__(self):\n",
    "        return str(self.value) # TODO vypíšeme něco jako value\n",
    "    def diff(self):\n",
    "        return cst(0) # TODO\n",
    "        pass # pass tam být nemusí, smazat\n",
    "    \n",
    "class identity(UnaryOperator):\n",
    "    def __init__(self):\n",
    "        pass\n",
    "    def __str__(self):\n",
    "        return \"x\" # TODO vypíšeme něco jako x   \n",
    "    def diff(self):\n",
    "        return cst(1) # TODO\n",
    "    \n",
    "class mocnina(UnaryOperator):\n",
    "    def __init__(self, argument, exponent):\n",
    "        self.argument = argument\n",
    "        self.exponent = exponent\n",
    "    def __str__(self):\n",
    "        return \"(\" + str(self.argument) + \")**\" + str(self.exponent) # TODO vypíšeme něco jako argument^exponent\n",
    "    def diff(self):\n",
    "        return cst(self.exponent) * mocnina(self.argument, self.exponent - 1) * self.argument.diff() # TODO\n",
    "    \n",
    "class sin(UnaryOperator):\n",
    "    def diff(self):\n",
    "        return cos(self.argument)*self.argument.diff() # TODO\n",
    "\n",
    "class cos(UnaryOperator):\n",
    "    def diff(self):\n",
    "        return cst(-1)*sin(self.argument)*self.argument.diff() # TODO\n",
    "\n",
    "class exp(UnaryOperator):\n",
    "    def diff(self):\n",
    "        return self.argument.diff() * self # TODO\n",
    "    \n",
    "class ln(UnaryOperator):\n",
    "    def diff(self):\n",
    "        return frc(self.argument)*self.argument.diff() # TODO\n",
    "\n",
    "class frc(UnaryOperator):\n",
    "    def __str__(self):\n",
    "        return \"1/(\" + str(self.argument) + \")\" # TODO vypíšeme něco jako 1/(argument)\n",
    "    def diff(self):\n",
    "        return cst(-1) * frc(mocnina(self.argument, 2)) * self.argument.diff() # TODO"
   ]
  },
  {
   "cell_type": "code",
   "execution_count": 55,
   "metadata": {},
   "outputs": [
    {
     "name": "stdout",
     "output_type": "stream",
     "text": [
      "x+1\n"
     ]
    }
   ],
   "source": [
    "x = identity()\n",
    "f1 = x + cst(1)\n",
    "print(f1)"
   ]
  },
  {
   "cell_type": "code",
   "execution_count": 57,
   "metadata": {},
   "outputs": [
    {
     "name": "stdout",
     "output_type": "stream",
     "text": [
      "sin(x+cos((x) * (x)))+1\n",
      "(cos(x+cos((x) * (x)))) * (1+((-1) * (sin((x) * (x)))) * ((1) * (x)+(1) * (x)))+0\n"
     ]
    }
   ],
   "source": [
    "# takto by se to mělo používat\n",
    "x = identity()\n",
    "# sin(x + cos(x*x)) + 1\n",
    "f1 = sin(x + cos(x*x)) + cst(1)\n",
    "print(f1)\n",
    "print(f1.diff())"
   ]
  },
  {
   "attachments": {},
   "cell_type": "markdown",
   "metadata": {},
   "source": [
    "můj výstup byl:\n",
    "\n",
    "`sin(x + cos((x)*(x))) + 1`\n",
    "\n",
    "`(cos(x + cos((x)*(x))))*(1 + ((-1)*(sin((x)*(x))))*((1)*(x) + (x)*(1))) + 0`"
   ]
  },
  {
   "cell_type": "code",
   "execution_count": 58,
   "metadata": {},
   "outputs": [
    {
     "name": "stdout",
     "output_type": "stream",
     "text": [
      "(x)**2+(2) * (x)+1+(2) * ((x)**2)\n",
      "((2) * ((x)**1)) * (1)+(0) * (x)+(1) * (2)+0+(0) * ((x)**2)+(((2) * ((x)**1)) * (1)) * (2)\n"
     ]
    }
   ],
   "source": [
    "x = identity()\n",
    "# x ^ 2 + 2x + 1 + 2x ^ 2\n",
    "f2 = mocnina(x,2) + cst(2)*x + cst(1) + cst(2)*mocnina(x,2)\n",
    "print(f2)\n",
    "print(f2.diff())\n"
   ]
  },
  {
   "attachments": {},
   "cell_type": "markdown",
   "metadata": {},
   "source": [
    "můj výstup byl:\n",
    "\n",
    "`(x)^2 + (2)*(x) + 1 + (2)*((x)^2)`\n",
    "\n",
    "`((2)*((x)^1))*(1) + (0)*(x) + (2)*(1) + 0 + (0)*((x)^2) + (2)*(((2)*((x)^1))*(1))`"
   ]
  },
  {
   "cell_type": "code",
   "execution_count": 60,
   "metadata": {},
   "outputs": [
    {
     "name": "stdout",
     "output_type": "stream",
     "text": [
      "(x)**2+(2) * (x)+exp(x)\n",
      "((2) * ((x)**1)) * (1)+(0) * (x)+(1) * (2)+(1) * (exp(x))\n",
      "((0) * ((x)**1)+(((1) * ((x)**0)) * (1)) * (0)+(((0) * ((x)**0)+(((0) * ((x)**-1)) * (1)) * (1)) * (1)+(0) * ((1) * ((x)**0))) * (2)+(0) * (((1) * ((x)**0)) * (1))) * (1)+(0) * ((0) * ((x)**1)+(((1) * ((x)**0)) * (1)) * (2))+(0) * ((2) * ((x)**1))+((0) * ((x)**1)+(((1) * ((x)**0)) * (1)) * (2)) * (0)+(0) * (x)+(1) * (0)+(0) * (0)+(0) * (1)+(0) * (2)+(0) * (0)+(0) * (1)+(0) * (0)+(0) * (exp(x))+((1) * (exp(x))) * (0)+((0) * (exp(x))+((1) * (exp(x))) * (1)) * (1)+(0) * ((1) * (exp(x)))\n"
     ]
    }
   ],
   "source": [
    "x = identity()\n",
    "# x ^ 2 + 2x + exp(x)\n",
    "f3 = mocnina(x,2) + cst(2)*x + exp(x)\n",
    "print(f3)\n",
    "print(f3.diff())\n",
    "print(f3.diff().diff().diff())\n"
   ]
  },
  {
   "attachments": {},
   "cell_type": "markdown",
   "metadata": {},
   "source": [
    "můj výstup byl:\n",
    "\n",
    "`(x)^2 + (2)*(x) + exp(x)`\n",
    "\n",
    "`((2)*((x)^1))*(1) + (0)*(x) + (2)*(1) + (exp(x))*(1)`\n"
   ]
  },
  {
   "attachments": {},
   "cell_type": "markdown",
   "metadata": {},
   "source": [
    "# Bonusový úkol:\n",
    "Doplňte ke všem třídám metodu `simplify()`, která provede zjednodušení výrazu. Například:\n",
    "- součet s nulou vrátí druhý operand\n",
    "- součin s nulou vrátí nulu\n",
    "- mocnina s exponentem 0 vrátí 1\n",
    "- mocnina s exponentem 1 vrátí první argument\n",
    "- součín dvou stejných argumentů vrátí mocninu s exponentem 2\n",
    "- součin konstant vrátí konstantu se součinem\n",
    "- ..."
   ]
  },
  {
   "cell_type": "markdown",
   "metadata": {},
   "source": []
  }
 ],
 "metadata": {
  "kernelspec": {
   "display_name": "Python 3",
   "language": "python",
   "name": "python3"
  },
  "language_info": {
   "codemirror_mode": {
    "name": "ipython",
    "version": 3
   },
   "file_extension": ".py",
   "mimetype": "text/x-python",
   "name": "python",
   "nbconvert_exporter": "python",
   "pygments_lexer": "ipython3",
   "version": "3.10.6"
  },
  "orig_nbformat": 4,
  "vscode": {
   "interpreter": {
    "hash": "916dbcbb3f70747c44a77c7bcd40155683ae19c65e1c03b4aa3499c5328201f1"
   }
  }
 },
 "nbformat": 4,
 "nbformat_minor": 2
}
